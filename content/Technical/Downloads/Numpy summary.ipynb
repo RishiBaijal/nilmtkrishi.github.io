{
 "metadata": {
  "name": "",
  "signature": "sha256:428a902b7321ae5a501eb543a6f078db5a13ac13cef126c78887b6364b60b696"
 },
 "nbformat": 3,
 "nbformat_minor": 0,
 "worksheets": [
  {
   "cells": [
    {
     "cell_type": "markdown",
     "metadata": {},
     "source": [
      "NumPy basics: Arrays and Vectorized Computation\n",
      "===============================================\n",
      "Date: 2014-09-19\n",
      "\n",
      "Over the past few weeks, I have been reading the book \"Python for Data Analytics\" by Wes Mckiney and I think it is excellent for anyone who is looking for a quick introduction to pandas, mostly because all of the content in this book comes from the inventor of pandas himself. However, in this post, we won't be looking at pandas. We will save that for later. First, we will dive into the basics of numpy as I will summarize what I have learnt from the above mentioned book.\n",
      "\n",
      "What is NumPy\n",
      "-------------\n",
      "\n",
      "NumPy stands for Numerical Python. It is a fundamental package that is python provides for high performance computing and data analysis. This feature has made Python a language of choice for wrapping legacy C/C++/Fortran codebases and giving them a dynamic and easy- to-use interface.  Because NumPy provides an easy-to-use C API, it is very easy to pass data to external libraries written in a low-level language and also for external libraries to return data to Python as NumPy arrays.\n",
      "\n",
      "The NumPy ndarray\n",
      "-----------------\n",
      "\n",
      "The NumPy ndarray is a fast and flexible container for datasets written in python. \n",
      "\n",
      "Creating an ndarray\n",
      "-------------------\n",
      "\n",
      "The creation of an ndarray is pretty simple. In order to define a NumPy array, you can simply take a python list and convert it to a NumPy array.\n"
     ]
    },
    {
     "cell_type": "code",
     "collapsed": false,
     "input": [
      "import numpy as np"
     ],
     "language": "python",
     "metadata": {},
     "outputs": [],
     "prompt_number": 8
    },
    {
     "cell_type": "code",
     "collapsed": false,
     "input": [
      "data=[1, 2, 3, 4, 5, 6]"
     ],
     "language": "python",
     "metadata": {},
     "outputs": [],
     "prompt_number": 3
    },
    {
     "cell_type": "code",
     "collapsed": false,
     "input": [
      "arr1=np.array(data)"
     ],
     "language": "python",
     "metadata": {},
     "outputs": [],
     "prompt_number": 4
    },
    {
     "cell_type": "code",
     "collapsed": false,
     "input": [
      "print arr1"
     ],
     "language": "python",
     "metadata": {},
     "outputs": [
      {
       "output_type": "stream",
       "stream": "stdout",
       "text": [
        "[1 2 3 4 5 6]\n"
       ]
      }
     ],
     "prompt_number": 5
    },
    {
     "cell_type": "code",
     "collapsed": false,
     "input": [
      "print type(arr1)"
     ],
     "language": "python",
     "metadata": {},
     "outputs": [
      {
       "output_type": "stream",
       "stream": "stdout",
       "text": [
        "<type 'numpy.ndarray'>\n"
       ]
      }
     ],
     "prompt_number": 6
    },
    {
     "cell_type": "markdown",
     "metadata": {},
     "source": [
      "We can use the above technique to create multi-dimensional arrays as well."
     ]
    },
    {
     "cell_type": "code",
     "collapsed": false,
     "input": [
      "data2=[[1, 2, 3,4 ], [5, 6, 7, 8]]"
     ],
     "language": "python",
     "metadata": {},
     "outputs": [],
     "prompt_number": 9
    },
    {
     "cell_type": "code",
     "collapsed": false,
     "input": [
      "arr2=np.array(data2)"
     ],
     "language": "python",
     "metadata": {},
     "outputs": [],
     "prompt_number": 10
    },
    {
     "cell_type": "code",
     "collapsed": false,
     "input": [
      "print arr2"
     ],
     "language": "python",
     "metadata": {},
     "outputs": [
      {
       "output_type": "stream",
       "stream": "stdout",
       "text": [
        "[[1 2 3 4]\n",
        " [5 6 7 8]]\n"
       ]
      }
     ],
     "prompt_number": 11
    },
    {
     "cell_type": "code",
     "collapsed": false,
     "input": [
      "print type(arr2)"
     ],
     "language": "python",
     "metadata": {},
     "outputs": [
      {
       "output_type": "stream",
       "stream": "stdout",
       "text": [
        "<type 'numpy.ndarray'>\n"
       ]
      }
     ],
     "prompt_number": 13
    },
    {
     "cell_type": "code",
     "collapsed": false,
     "input": [
      "arr2.ndim # prints the number of rows in the array"
     ],
     "language": "python",
     "metadata": {},
     "outputs": [
      {
       "metadata": {},
       "output_type": "pyout",
       "prompt_number": 14,
       "text": [
        "2"
       ]
      }
     ],
     "prompt_number": 14
    },
    {
     "cell_type": "code",
     "collapsed": false,
     "input": [
      "arr2.shape  # prints the shape of the array in the form (row, column)"
     ],
     "language": "python",
     "metadata": {},
     "outputs": [
      {
       "metadata": {},
       "output_type": "pyout",
       "prompt_number": 15,
       "text": [
        "(2, 4)"
       ]
      }
     ],
     "prompt_number": 15
    },
    {
     "cell_type": "markdown",
     "metadata": {},
     "source": [
      "There are other ways of initializing arrays. They can be illustrates as follows:"
     ]
    },
    {
     "cell_type": "code",
     "collapsed": false,
     "input": [
      "np.zeros(10) # Initializes an array of 10 elements all of which are zeroes"
     ],
     "language": "python",
     "metadata": {},
     "outputs": [
      {
       "metadata": {},
       "output_type": "pyout",
       "prompt_number": 16,
       "text": [
        "array([ 0.,  0.,  0.,  0.,  0.,  0.,  0.,  0.,  0.,  0.])"
       ]
      }
     ],
     "prompt_number": 16
    },
    {
     "cell_type": "code",
     "collapsed": false,
     "input": [
      "np.zeros((3, 6)) # Initializes a 3 * 6 array containing only zeroes"
     ],
     "language": "python",
     "metadata": {},
     "outputs": [
      {
       "metadata": {},
       "output_type": "pyout",
       "prompt_number": 18,
       "text": [
        "array([[ 0.,  0.,  0.,  0.,  0.,  0.],\n",
        "       [ 0.,  0.,  0.,  0.,  0.,  0.],\n",
        "       [ 0.,  0.,  0.,  0.,  0.,  0.]])"
       ]
      }
     ],
     "prompt_number": 18
    },
    {
     "cell_type": "code",
     "collapsed": false,
     "input": [
      "np.arange(10) # Initializes a 10 element array with elements ranging from 0 to 9"
     ],
     "language": "python",
     "metadata": {},
     "outputs": [
      {
       "metadata": {},
       "output_type": "pyout",
       "prompt_number": 19,
       "text": [
        "array([0, 1, 2, 3, 4, 5, 6, 7, 8, 9])"
       ]
      }
     ],
     "prompt_number": 19
    },
    {
     "cell_type": "markdown",
     "metadata": {},
     "source": [
      "Data Types for ndarrays\n",
      "------------------------\n",
      "\n",
      "You can define the type of the elements contained in the NumPy array as follows:"
     ]
    },
    {
     "cell_type": "code",
     "collapsed": false,
     "input": [
      "arr1=np.array([1, 2, 3, 4, 5, 6], dtype=np.float64) # All elements are of the type float64"
     ],
     "language": "python",
     "metadata": {},
     "outputs": [],
     "prompt_number": 20
    },
    {
     "cell_type": "code",
     "collapsed": false,
     "input": [
      "print arr1.dtype"
     ],
     "language": "python",
     "metadata": {},
     "outputs": [
      {
       "output_type": "stream",
       "stream": "stdout",
       "text": [
        "float64\n"
       ]
      }
     ],
     "prompt_number": 22
    },
    {
     "cell_type": "code",
     "collapsed": false,
     "input": [
      "arr2=np.array([1, 2, 3, 4, 5, 6], dtype=np.int32)"
     ],
     "language": "python",
     "metadata": {},
     "outputs": [],
     "prompt_number": 23
    },
    {
     "cell_type": "code",
     "collapsed": false,
     "input": [
      "print arr2.dtype"
     ],
     "language": "python",
     "metadata": {},
     "outputs": [
      {
       "output_type": "stream",
       "stream": "stdout",
       "text": [
        "int32\n"
       ]
      }
     ],
     "prompt_number": 24
    },
    {
     "cell_type": "markdown",
     "metadata": {},
     "source": [
      "It is possible to convert the data type of an array from one type to another as follows:"
     ]
    },
    {
     "cell_type": "code",
     "collapsed": false,
     "input": [
      "print arr1.dtype"
     ],
     "language": "python",
     "metadata": {},
     "outputs": [
      {
       "output_type": "stream",
       "stream": "stdout",
       "text": [
        "float64\n"
       ]
      }
     ],
     "prompt_number": 26
    },
    {
     "cell_type": "code",
     "collapsed": false,
     "input": [
      "print arr1.astype(np.int32), \" \", arr1.astype(np.int32).dtype"
     ],
     "language": "python",
     "metadata": {},
     "outputs": [
      {
       "output_type": "stream",
       "stream": "stdout",
       "text": [
        "[1 2 3 4 5 6]   int32\n"
       ]
      }
     ],
     "prompt_number": 31
    },
    {
     "cell_type": "markdown",
     "metadata": {},
     "source": [
      "Operations between Arrays and Scalars\n",
      "-------------------------------------\n",
      "\n",
      "Performing batch operations on data without atually writing any for loops is called vectorization. Any operation performed on a NumPy array is usually applied element-wise as follows:"
     ]
    },
    {
     "cell_type": "code",
     "collapsed": false,
     "input": [
      "arr=np.array([[1, 2, 3], [4, 5, 6]], dtype=np.float64)"
     ],
     "language": "python",
     "metadata": {},
     "outputs": [],
     "prompt_number": 34
    },
    {
     "cell_type": "code",
     "collapsed": false,
     "input": [
      "print arr"
     ],
     "language": "python",
     "metadata": {},
     "outputs": [
      {
       "output_type": "stream",
       "stream": "stdout",
       "text": [
        "[[ 1.  2.  3.]\n",
        " [ 4.  5.  6.]]\n"
       ]
      }
     ],
     "prompt_number": 35
    },
    {
     "cell_type": "code",
     "collapsed": false,
     "input": [
      "print arr*arr"
     ],
     "language": "python",
     "metadata": {},
     "outputs": [
      {
       "output_type": "stream",
       "stream": "stdout",
       "text": [
        "[[  1.   4.   9.]\n",
        " [ 16.  25.  36.]]\n"
       ]
      }
     ],
     "prompt_number": 36
    },
    {
     "cell_type": "code",
     "collapsed": false,
     "input": [
      "print arr+arr"
     ],
     "language": "python",
     "metadata": {},
     "outputs": [
      {
       "output_type": "stream",
       "stream": "stdout",
       "text": [
        "[[  2.   4.   6.]\n",
        " [  8.  10.  12.]]\n"
       ]
      }
     ],
     "prompt_number": 37
    },
    {
     "cell_type": "code",
     "collapsed": false,
     "input": [
      "print 4*arr"
     ],
     "language": "python",
     "metadata": {},
     "outputs": [
      {
       "output_type": "stream",
       "stream": "stdout",
       "text": [
        "[[  4.   8.  12.]\n",
        " [ 16.  20.  24.]]\n"
       ]
      }
     ],
     "prompt_number": 38
    },
    {
     "cell_type": "code",
     "collapsed": false,
     "input": [
      "print arr-arr"
     ],
     "language": "python",
     "metadata": {},
     "outputs": [
      {
       "output_type": "stream",
       "stream": "stdout",
       "text": [
        "[[ 0.  0.  0.]\n",
        " [ 0.  0.  0.]]\n"
       ]
      }
     ],
     "prompt_number": 39
    },
    {
     "cell_type": "code",
     "collapsed": false,
     "input": [
      "print 1/arr"
     ],
     "language": "python",
     "metadata": {},
     "outputs": [
      {
       "output_type": "stream",
       "stream": "stdout",
       "text": [
        "[[ 1.          0.5         0.33333333]\n",
        " [ 0.25        0.2         0.16666667]]\n"
       ]
      }
     ],
     "prompt_number": 40
    },
    {
     "cell_type": "code",
     "collapsed": false,
     "input": [
      "print 0.5 ** arr"
     ],
     "language": "python",
     "metadata": {},
     "outputs": [
      {
       "output_type": "stream",
       "stream": "stdout",
       "text": [
        "[[ 0.5       0.25      0.125   ]\n",
        " [ 0.0625    0.03125   0.015625]]\n"
       ]
      }
     ],
     "prompt_number": 41
    },
    {
     "cell_type": "code",
     "collapsed": false,
     "input": [
      "print arr ** 0.5"
     ],
     "language": "python",
     "metadata": {},
     "outputs": [
      {
       "output_type": "stream",
       "stream": "stdout",
       "text": [
        "[[ 1.          1.41421356  1.73205081]\n",
        " [ 2.          2.23606798  2.44948974]]\n"
       ]
      }
     ],
     "prompt_number": 42
    },
    {
     "cell_type": "markdown",
     "metadata": {},
     "source": [
      "Basic indexing and slicing\n",
      "--------------------------\n",
      "\n",
      "The process of referring to a particular array element in the array is called indexing. The process of taking out elements in a certain range from the array is called slicing. It can be illustrated as follows:"
     ]
    },
    {
     "cell_type": "code",
     "collapsed": false,
     "input": [
      "arr=np.arange(10)"
     ],
     "language": "python",
     "metadata": {},
     "outputs": [],
     "prompt_number": 43
    },
    {
     "cell_type": "code",
     "collapsed": false,
     "input": [
      "arr[5]"
     ],
     "language": "python",
     "metadata": {},
     "outputs": [
      {
       "metadata": {},
       "output_type": "pyout",
       "prompt_number": 44,
       "text": [
        "5"
       ]
      }
     ],
     "prompt_number": 44
    },
    {
     "cell_type": "code",
     "collapsed": false,
     "input": [
      "arr[1:4]"
     ],
     "language": "python",
     "metadata": {},
     "outputs": [
      {
       "metadata": {},
       "output_type": "pyout",
       "prompt_number": 45,
       "text": [
        "array([1, 2, 3])"
       ]
      }
     ],
     "prompt_number": 45
    },
    {
     "cell_type": "code",
     "collapsed": false,
     "input": [
      "arr[1:]"
     ],
     "language": "python",
     "metadata": {},
     "outputs": [
      {
       "metadata": {},
       "output_type": "pyout",
       "prompt_number": 46,
       "text": [
        "array([1, 2, 3, 4, 5, 6, 7, 8, 9])"
       ]
      }
     ],
     "prompt_number": 46
    },
    {
     "cell_type": "code",
     "collapsed": false,
     "input": [
      "arr[:4]"
     ],
     "language": "python",
     "metadata": {},
     "outputs": [
      {
       "metadata": {},
       "output_type": "pyout",
       "prompt_number": 47,
       "text": [
        "array([0, 1, 2, 3])"
       ]
      }
     ],
     "prompt_number": 47
    },
    {
     "cell_type": "code",
     "collapsed": false,
     "input": [
      "arr[1:8:2]"
     ],
     "language": "python",
     "metadata": {},
     "outputs": [
      {
       "metadata": {},
       "output_type": "pyout",
       "prompt_number": 48,
       "text": [
        "array([1, 3, 5, 7])"
       ]
      }
     ],
     "prompt_number": 48
    },
    {
     "cell_type": "code",
     "collapsed": false,
     "input": [
      "arr[::-1] # Note that this prints the array in reverse"
     ],
     "language": "python",
     "metadata": {},
     "outputs": [
      {
       "metadata": {},
       "output_type": "pyout",
       "prompt_number": 49,
       "text": [
        "array([9, 8, 7, 6, 5, 4, 3, 2, 1, 0])"
       ]
      }
     ],
     "prompt_number": 49
    },
    {
     "cell_type": "code",
     "collapsed": false,
     "input": [
      "arr[::-2]"
     ],
     "language": "python",
     "metadata": {},
     "outputs": [
      {
       "metadata": {},
       "output_type": "pyout",
       "prompt_number": 68,
       "text": [
        "array([9, 7, 5, 3, 1])"
       ]
      }
     ],
     "prompt_number": 68
    },
    {
     "cell_type": "markdown",
     "metadata": {},
     "source": [
      "arr[::-3]"
     ]
    },
    {
     "cell_type": "markdown",
     "metadata": {},
     "source": [
      "Two-dimensional arrays work as follows:"
     ]
    },
    {
     "cell_type": "code",
     "collapsed": false,
     "input": [
      "arr2d=np.array([[1, 2, 3], [4, 5, 6], [7, 8, 9]])\n",
      "arr2d[2]"
     ],
     "language": "python",
     "metadata": {},
     "outputs": [
      {
       "metadata": {},
       "output_type": "pyout",
       "prompt_number": 56,
       "text": [
        "array([7, 8, 9])"
       ]
      }
     ],
     "prompt_number": 56
    },
    {
     "cell_type": "code",
     "collapsed": false,
     "input": [
      "arr2d[0][2]"
     ],
     "language": "python",
     "metadata": {},
     "outputs": [
      {
       "metadata": {},
       "output_type": "pyout",
       "prompt_number": 57,
       "text": [
        "3"
       ]
      }
     ],
     "prompt_number": 57
    },
    {
     "cell_type": "markdown",
     "metadata": {},
     "source": [
      "As do three dimensional arrays:"
     ]
    },
    {
     "cell_type": "code",
     "collapsed": false,
     "input": [
      "arr3d = np.array([[[1, 2, 3], [4, 5, 6]], [[7, 8, 9], [10, 11, 12]]])"
     ],
     "language": "python",
     "metadata": {},
     "outputs": [],
     "prompt_number": 59
    },
    {
     "cell_type": "code",
     "collapsed": false,
     "input": [
      "arr3d[1]"
     ],
     "language": "python",
     "metadata": {},
     "outputs": [
      {
       "metadata": {},
       "output_type": "pyout",
       "prompt_number": 62,
       "text": [
        "array([[ 7,  8,  9],\n",
        "       [10, 11, 12]])"
       ]
      }
     ],
     "prompt_number": 62
    },
    {
     "cell_type": "code",
     "collapsed": false,
     "input": [
      "arr3d[1][2]"
     ],
     "language": "python",
     "metadata": {},
     "outputs": [
      {
       "ename": "IndexError",
       "evalue": "index 2 is out of bounds for axis 0 with size 2",
       "output_type": "pyerr",
       "traceback": [
        "\u001b[0;31m---------------------------------------------------------------------------\u001b[0m\n\u001b[0;31mIndexError\u001b[0m                                Traceback (most recent call last)",
        "\u001b[0;32m<ipython-input-63-250bc9e09ca4>\u001b[0m in \u001b[0;36m<module>\u001b[0;34m()\u001b[0m\n\u001b[0;32m----> 1\u001b[0;31m \u001b[0marr3d\u001b[0m\u001b[0;34m[\u001b[0m\u001b[0;36m1\u001b[0m\u001b[0;34m]\u001b[0m\u001b[0;34m[\u001b[0m\u001b[0;36m2\u001b[0m\u001b[0;34m]\u001b[0m\u001b[0;34m\u001b[0m\u001b[0m\n\u001b[0m",
        "\u001b[0;31mIndexError\u001b[0m: index 2 is out of bounds for axis 0 with size 2"
       ]
      }
     ],
     "prompt_number": 63
    },
    {
     "cell_type": "code",
     "collapsed": false,
     "input": [
      "arr3d[1][1]"
     ],
     "language": "python",
     "metadata": {},
     "outputs": [
      {
       "metadata": {},
       "output_type": "pyout",
       "prompt_number": 64,
       "text": [
        "array([10, 11, 12])"
       ]
      }
     ],
     "prompt_number": 64
    },
    {
     "cell_type": "code",
     "collapsed": false,
     "input": [
      "arr3d[1][1][0]"
     ],
     "language": "python",
     "metadata": {},
     "outputs": [
      {
       "metadata": {},
       "output_type": "pyout",
       "prompt_number": 65,
       "text": [
        "10"
       ]
      }
     ],
     "prompt_number": 65
    },
    {
     "cell_type": "code",
     "collapsed": false,
     "input": [
      "arr3d"
     ],
     "language": "python",
     "metadata": {},
     "outputs": [
      {
       "metadata": {},
       "output_type": "pyout",
       "prompt_number": 66,
       "text": [
        "array([[[ 1,  2,  3],\n",
        "        [ 4,  5,  6]],\n",
        "\n",
        "       [[ 7,  8,  9],\n",
        "        [10, 11, 12]]])"
       ]
      }
     ],
     "prompt_number": 66
    },
    {
     "cell_type": "markdown",
     "metadata": {},
     "source": [
      "Boolean Indexing\n",
      "----------------\n",
      "\n",
      "Boolean indexing is the process of selecting a particular set of values from an array depending on the truth value of a given condition/conditions. In order to explain this, I will use an array of strings and perform a few basic operations on that in order to see how it works."
     ]
    },
    {
     "cell_type": "code",
     "collapsed": false,
     "input": [
      "names=np.array(['John', 'Steve', 'Al', 'Zach', 'Tom', 'Eddie', 'Jimi', 'Zack', 'Joe', 'John'])"
     ],
     "language": "python",
     "metadata": {},
     "outputs": [],
     "prompt_number": 85
    },
    {
     "cell_type": "code",
     "collapsed": false,
     "input": [
      "data=np.random.randn(11, 4)"
     ],
     "language": "python",
     "metadata": {},
     "outputs": [],
     "prompt_number": 97
    },
    {
     "cell_type": "code",
     "collapsed": false,
     "input": [
      "print data"
     ],
     "language": "python",
     "metadata": {},
     "outputs": [
      {
       "output_type": "stream",
       "stream": "stdout",
       "text": [
        "[[-1.21824553 -1.4335463   0.25845561  0.62195694]\n",
        " [ 2.30738139  0.56371455  0.34851974  1.42020939]\n",
        " [ 1.45958223 -0.91371389  1.15316857  0.64638422]\n",
        " [ 0.36023551  0.28103     0.98165515 -0.07171965]\n",
        " [ 0.31720839 -1.18606647 -1.36074193  0.92927868]\n",
        " [ 0.44984978  0.49081899  0.84758346 -0.17992609]\n",
        " [ 0.417511    0.41953119  3.03553414  0.19768283]\n",
        " [ 0.78576391 -0.90317637  1.10053666  2.37036772]\n",
        " [-0.87840725  0.02588912 -0.111781    0.60870769]\n",
        " [ 0.76419997 -1.6551689  -0.53839151 -0.29482062]\n",
        " [-0.71646187  0.64434515  0.84177891  0.18014262]]\n"
       ]
      }
     ],
     "prompt_number": 98
    },
    {
     "cell_type": "code",
     "collapsed": false,
     "input": [
      "print names"
     ],
     "language": "python",
     "metadata": {},
     "outputs": [
      {
       "output_type": "stream",
       "stream": "stdout",
       "text": [
        "['John' 'Steve' 'Al' 'Zach' 'Tom' 'Eddie' 'Jimi' 'Zack' 'Joe' 'John']\n"
       ]
      }
     ],
     "prompt_number": 99
    },
    {
     "cell_type": "code",
     "collapsed": false,
     "input": [
      "names=='John'"
     ],
     "language": "python",
     "metadata": {},
     "outputs": [
      {
       "metadata": {},
       "output_type": "pyout",
       "prompt_number": 100,
       "text": [
        "array([ True, False, False, False, False, False, False, False, False,  True], dtype=bool)"
       ]
      }
     ],
     "prompt_number": 100
    },
    {
     "cell_type": "code",
     "collapsed": false,
     "input": [
      "data[names=='John']"
     ],
     "language": "python",
     "metadata": {},
     "outputs": [
      {
       "metadata": {},
       "output_type": "pyout",
       "prompt_number": 101,
       "text": [
        "array([[-1.21824553, -1.4335463 ,  0.25845561,  0.62195694],\n",
        "       [ 0.76419997, -1.6551689 , -0.53839151, -0.29482062]])"
       ]
      }
     ],
     "prompt_number": 101
    },
    {
     "cell_type": "code",
     "collapsed": false,
     "input": [
      "data[names=='John', 3]"
     ],
     "language": "python",
     "metadata": {},
     "outputs": [
      {
       "metadata": {},
       "output_type": "pyout",
       "prompt_number": 102,
       "text": [
        "array([ 0.62195694, -0.29482062])"
       ]
      }
     ],
     "prompt_number": 102
    },
    {
     "cell_type": "code",
     "collapsed": false,
     "input": [
      "names!='John'"
     ],
     "language": "python",
     "metadata": {},
     "outputs": [
      {
       "metadata": {},
       "output_type": "pyout",
       "prompt_number": 103,
       "text": [
        "array([False,  True,  True,  True,  True,  True,  True,  True,  True, False], dtype=bool)"
       ]
      }
     ],
     "prompt_number": 103
    },
    {
     "cell_type": "code",
     "collapsed": false,
     "input": [
      "mask=(names=='John') | (names=='Jimi')"
     ],
     "language": "python",
     "metadata": {},
     "outputs": [],
     "prompt_number": 104
    },
    {
     "cell_type": "code",
     "collapsed": false,
     "input": [
      "mask"
     ],
     "language": "python",
     "metadata": {},
     "outputs": [
      {
       "metadata": {},
       "output_type": "pyout",
       "prompt_number": 105,
       "text": [
        "array([ True, False, False, False, False, False,  True, False, False,  True], dtype=bool)"
       ]
      }
     ],
     "prompt_number": 105
    },
    {
     "cell_type": "code",
     "collapsed": false,
     "input": [
      "data[mask]"
     ],
     "language": "python",
     "metadata": {},
     "outputs": [
      {
       "metadata": {},
       "output_type": "pyout",
       "prompt_number": 106,
       "text": [
        "array([[-1.21824553, -1.4335463 ,  0.25845561,  0.62195694],\n",
        "       [ 0.417511  ,  0.41953119,  3.03553414,  0.19768283],\n",
        "       [ 0.76419997, -1.6551689 , -0.53839151, -0.29482062]])"
       ]
      }
     ],
     "prompt_number": 106
    },
    {
     "cell_type": "code",
     "collapsed": false,
     "input": [
      "data[data < 0]"
     ],
     "language": "python",
     "metadata": {},
     "outputs": [
      {
       "metadata": {},
       "output_type": "pyout",
       "prompt_number": 107,
       "text": [
        "array([-1.21824553, -1.4335463 , -0.91371389, -0.07171965, -1.18606647,\n",
        "       -1.36074193, -0.17992609, -0.90317637, -0.87840725, -0.111781  ,\n",
        "       -1.6551689 , -0.53839151, -0.29482062, -0.71646187])"
       ]
      }
     ],
     "prompt_number": 107
    },
    {
     "cell_type": "code",
     "collapsed": false,
     "input": [
      "data[names!='Joe']"
     ],
     "language": "python",
     "metadata": {},
     "outputs": [
      {
       "metadata": {},
       "output_type": "pyout",
       "prompt_number": 108,
       "text": [
        "array([[-1.21824553, -1.4335463 ,  0.25845561,  0.62195694],\n",
        "       [ 2.30738139,  0.56371455,  0.34851974,  1.42020939],\n",
        "       [ 1.45958223, -0.91371389,  1.15316857,  0.64638422],\n",
        "       [ 0.36023551,  0.28103   ,  0.98165515, -0.07171965],\n",
        "       [ 0.31720839, -1.18606647, -1.36074193,  0.92927868],\n",
        "       [ 0.44984978,  0.49081899,  0.84758346, -0.17992609],\n",
        "       [ 0.417511  ,  0.41953119,  3.03553414,  0.19768283],\n",
        "       [ 0.78576391, -0.90317637,  1.10053666,  2.37036772],\n",
        "       [ 0.76419997, -1.6551689 , -0.53839151, -0.29482062]])"
       ]
      }
     ],
     "prompt_number": 108
    },
    {
     "cell_type": "code",
     "collapsed": false,
     "input": [
      "data[names!='Joe']=7"
     ],
     "language": "python",
     "metadata": {},
     "outputs": [],
     "prompt_number": 109
    },
    {
     "cell_type": "code",
     "collapsed": false,
     "input": [
      "data"
     ],
     "language": "python",
     "metadata": {},
     "outputs": [
      {
       "metadata": {},
       "output_type": "pyout",
       "prompt_number": 110,
       "text": [
        "array([[ 7.        ,  7.        ,  7.        ,  7.        ],\n",
        "       [ 7.        ,  7.        ,  7.        ,  7.        ],\n",
        "       [ 7.        ,  7.        ,  7.        ,  7.        ],\n",
        "       [ 7.        ,  7.        ,  7.        ,  7.        ],\n",
        "       [ 7.        ,  7.        ,  7.        ,  7.        ],\n",
        "       [ 7.        ,  7.        ,  7.        ,  7.        ],\n",
        "       [ 7.        ,  7.        ,  7.        ,  7.        ],\n",
        "       [ 7.        ,  7.        ,  7.        ,  7.        ],\n",
        "       [-0.87840725,  0.02588912, -0.111781  ,  0.60870769],\n",
        "       [ 7.        ,  7.        ,  7.        ,  7.        ],\n",
        "       [-0.71646187,  0.64434515,  0.84177891,  0.18014262]])"
       ]
      }
     ],
     "prompt_number": 110
    },
    {
     "cell_type": "code",
     "collapsed": false,
     "input": [
      "data[[4, 3, 0, 6]]"
     ],
     "language": "python",
     "metadata": {},
     "outputs": [
      {
       "metadata": {},
       "output_type": "pyout",
       "prompt_number": 111,
       "text": [
        "array([[ 7.,  7.,  7.,  7.],\n",
        "       [ 7.,  7.,  7.,  7.],\n",
        "       [ 7.,  7.,  7.,  7.],\n",
        "       [ 7.,  7.,  7.,  7.]])"
       ]
      }
     ],
     "prompt_number": 111
    },
    {
     "cell_type": "code",
     "collapsed": false,
     "input": [
      "data[[-4, -3, 0, -6]]"
     ],
     "language": "python",
     "metadata": {},
     "outputs": [
      {
       "metadata": {},
       "output_type": "pyout",
       "prompt_number": 112,
       "text": [
        "array([[ 7.        ,  7.        ,  7.        ,  7.        ],\n",
        "       [-0.87840725,  0.02588912, -0.111781  ,  0.60870769],\n",
        "       [ 7.        ,  7.        ,  7.        ,  7.        ],\n",
        "       [ 7.        ,  7.        ,  7.        ,  7.        ]])"
       ]
      }
     ],
     "prompt_number": 112
    },
    {
     "cell_type": "code",
     "collapsed": false,
     "input": [
      "data.shape"
     ],
     "language": "python",
     "metadata": {},
     "outputs": [
      {
       "metadata": {},
       "output_type": "pyout",
       "prompt_number": 113,
       "text": [
        "(11, 4)"
       ]
      }
     ],
     "prompt_number": 113
    },
    {
     "cell_type": "markdown",
     "metadata": {},
     "source": [
      "Transposing arrays and swapping axes\n",
      "------------------------------------\n",
      "\n",
      "Transposition of arrays is basically nothing but reshaping of arrays in a particular way. Arrays can be reshaped as follows:"
     ]
    },
    {
     "cell_type": "code",
     "collapsed": false,
     "input": [
      "data=np.arange(44).reshape(2, 22)\n",
      "data"
     ],
     "language": "python",
     "metadata": {},
     "outputs": [
      {
       "metadata": {},
       "output_type": "pyout",
       "prompt_number": 115,
       "text": [
        "array([[ 0,  1,  2,  3,  4,  5,  6,  7,  8,  9, 10, 11, 12, 13, 14, 15, 16,\n",
        "        17, 18, 19, 20, 21],\n",
        "       [22, 23, 24, 25, 26, 27, 28, 29, 30, 31, 32, 33, 34, 35, 36, 37, 38,\n",
        "        39, 40, 41, 42, 43]])"
       ]
      }
     ],
     "prompt_number": 115
    },
    {
     "cell_type": "markdown",
     "metadata": {},
     "source": [
      "You can use the transpose method as follows:"
     ]
    },
    {
     "cell_type": "code",
     "collapsed": false,
     "input": [
      "print data # The original matrix"
     ],
     "language": "python",
     "metadata": {},
     "outputs": [
      {
       "output_type": "stream",
       "stream": "stdout",
       "text": [
        "[[ 0  1  2  3  4  5  6  7  8  9 10 11 12 13 14 15 16 17 18 19 20 21]\n",
        " [22 23 24 25 26 27 28 29 30 31 32 33 34 35 36 37 38 39 40 41 42 43]]\n"
       ]
      }
     ],
     "prompt_number": 116
    },
    {
     "cell_type": "code",
     "collapsed": false,
     "input": [
      "print data.T # the transpose"
     ],
     "language": "python",
     "metadata": {},
     "outputs": [
      {
       "output_type": "stream",
       "stream": "stdout",
       "text": [
        "[[ 0 22]\n",
        " [ 1 23]\n",
        " [ 2 24]\n",
        " [ 3 25]\n",
        " [ 4 26]\n",
        " [ 5 27]\n",
        " [ 6 28]\n",
        " [ 7 29]\n",
        " [ 8 30]\n",
        " [ 9 31]\n",
        " [10 32]\n",
        " [11 33]\n",
        " [12 34]\n",
        " [13 35]\n",
        " [14 36]\n",
        " [15 37]\n",
        " [16 38]\n",
        " [17 39]\n",
        " [18 40]\n",
        " [19 41]\n",
        " [20 42]\n",
        " [21 43]]\n"
       ]
      }
     ],
     "prompt_number": 117
    },
    {
     "cell_type": "markdown",
     "metadata": {},
     "source": [
      "You can compute the inner matrix product using the dot() function provided by NumPy as follows:"
     ]
    },
    {
     "cell_type": "code",
     "collapsed": false,
     "input": [
      "arr=np.random.randn(6, 3)"
     ],
     "language": "python",
     "metadata": {},
     "outputs": [],
     "prompt_number": 119
    },
    {
     "cell_type": "code",
     "collapsed": false,
     "input": [
      "print arr"
     ],
     "language": "python",
     "metadata": {},
     "outputs": [
      {
       "output_type": "stream",
       "stream": "stdout",
       "text": [
        "[[-0.5296385  -0.64331698 -0.221854  ]\n",
        " [ 0.66806003  0.21313276 -0.1232696 ]\n",
        " [-0.84067573  0.04205583  0.0855317 ]\n",
        " [ 1.34676697  2.00957975  1.15370587]\n",
        " [-0.53667046  1.09278406  1.52257589]\n",
        " [ 0.91960734  0.48572652  0.62366033]]\n"
       ]
      }
     ],
     "prompt_number": 120
    },
    {
     "cell_type": "code",
     "collapsed": false,
     "input": [
      "np.dot(arr.T, arr)"
     ],
     "language": "python",
     "metadata": {},
     "outputs": [
      {
       "metadata": {},
       "output_type": "pyout",
       "prompt_number": 121,
       "text": [
        "array([[ 4.38103093,  3.01440397,  1.27342057],\n",
        "       [ 3.01440397,  5.92956902,  4.40528572],\n",
        "       [ 1.27342057,  4.40528572,  4.10995703]])"
       ]
      }
     ],
     "prompt_number": 121
    },
    {
     "cell_type": "markdown",
     "metadata": {},
     "source": [
      "If you want to swap the axes of your matrix, you can do it in the following manner:"
     ]
    },
    {
     "cell_type": "code",
     "collapsed": false,
     "input": [
      "arr"
     ],
     "language": "python",
     "metadata": {},
     "outputs": [
      {
       "metadata": {},
       "output_type": "pyout",
       "prompt_number": 122,
       "text": [
        "array([[-0.5296385 , -0.64331698, -0.221854  ],\n",
        "       [ 0.66806003,  0.21313276, -0.1232696 ],\n",
        "       [-0.84067573,  0.04205583,  0.0855317 ],\n",
        "       [ 1.34676697,  2.00957975,  1.15370587],\n",
        "       [-0.53667046,  1.09278406,  1.52257589],\n",
        "       [ 0.91960734,  0.48572652,  0.62366033]])"
       ]
      }
     ],
     "prompt_number": 122
    },
    {
     "cell_type": "code",
     "collapsed": false,
     "input": [
      "arr.swapaxes(0, 1)"
     ],
     "language": "python",
     "metadata": {},
     "outputs": [
      {
       "metadata": {},
       "output_type": "pyout",
       "prompt_number": 124,
       "text": [
        "array([[-0.5296385 ,  0.66806003, -0.84067573,  1.34676697, -0.53667046,\n",
        "         0.91960734],\n",
        "       [-0.64331698,  0.21313276,  0.04205583,  2.00957975,  1.09278406,\n",
        "         0.48572652],\n",
        "       [-0.221854  , -0.1232696 ,  0.0855317 ,  1.15370587,  1.52257589,\n",
        "         0.62366033]])"
       ]
      }
     ],
     "prompt_number": 124
    },
    {
     "cell_type": "markdown",
     "metadata": {},
     "source": [
      "Universal functions\n",
      "-------------------\n",
      "\n",
      "A function that performs elementwise transformations is called a universal function or a ufunc. Most of the universal functions are simple element-wise transformations as follows:"
     ]
    },
    {
     "cell_type": "code",
     "collapsed": false,
     "input": [
      "arr=np.arange(10)"
     ],
     "language": "python",
     "metadata": {},
     "outputs": [],
     "prompt_number": 125
    },
    {
     "cell_type": "code",
     "collapsed": false,
     "input": [
      "np.sqrt(arr)"
     ],
     "language": "python",
     "metadata": {},
     "outputs": [
      {
       "metadata": {},
       "output_type": "pyout",
       "prompt_number": 126,
       "text": [
        "array([ 0.        ,  1.        ,  1.41421356,  1.73205081,  2.        ,\n",
        "        2.23606798,  2.44948974,  2.64575131,  2.82842712,  3.        ])"
       ]
      }
     ],
     "prompt_number": 126
    },
    {
     "cell_type": "code",
     "collapsed": false,
     "input": [
      "np.exp(arr)"
     ],
     "language": "python",
     "metadata": {},
     "outputs": [
      {
       "metadata": {},
       "output_type": "pyout",
       "prompt_number": 127,
       "text": [
        "array([  1.00000000e+00,   2.71828183e+00,   7.38905610e+00,\n",
        "         2.00855369e+01,   5.45981500e+01,   1.48413159e+02,\n",
        "         4.03428793e+02,   1.09663316e+03,   2.98095799e+03,\n",
        "         8.10308393e+03])"
       ]
      }
     ],
     "prompt_number": 127
    },
    {
     "cell_type": "code",
     "collapsed": false,
     "input": [
      "x=np.random.randn(10)"
     ],
     "language": "python",
     "metadata": {},
     "outputs": [],
     "prompt_number": 129
    },
    {
     "cell_type": "code",
     "collapsed": false,
     "input": [
      "y=np.random.randn(10)"
     ],
     "language": "python",
     "metadata": {},
     "outputs": [],
     "prompt_number": 130
    },
    {
     "cell_type": "code",
     "collapsed": false,
     "input": [
      "print x"
     ],
     "language": "python",
     "metadata": {},
     "outputs": [
      {
       "output_type": "stream",
       "stream": "stdout",
       "text": [
        "[-1.13650701 -0.51949686  0.73803756  1.31507115  0.1312049   0.4883252\n",
        " -0.30597766 -1.21990346  1.18808161  0.71033581]\n"
       ]
      }
     ],
     "prompt_number": 131
    },
    {
     "cell_type": "code",
     "collapsed": false,
     "input": [
      "print y"
     ],
     "language": "python",
     "metadata": {},
     "outputs": [
      {
       "output_type": "stream",
       "stream": "stdout",
       "text": [
        "[ 0.77708796  1.46384942  0.6643464  -0.74580614 -1.13368239  0.4719205\n",
        "  0.85450984 -0.34452069 -0.54873699  0.80610906]\n"
       ]
      }
     ],
     "prompt_number": 132
    },
    {
     "cell_type": "code",
     "collapsed": false,
     "input": [
      "np.maximum(x, y) # find the elementwise maximum element"
     ],
     "language": "python",
     "metadata": {},
     "outputs": [
      {
       "metadata": {},
       "output_type": "pyout",
       "prompt_number": 133,
       "text": [
        "array([ 0.77708796,  1.46384942,  0.73803756,  1.31507115,  0.1312049 ,\n",
        "        0.4883252 ,  0.85450984, -0.34452069,  1.18808161,  0.80610906])"
       ]
      }
     ],
     "prompt_number": 133
    },
    {
     "cell_type": "code",
     "collapsed": false,
     "input": [
      "np.modf(x) # modf is a function to return the fractional and integral parts of every element in the array"
     ],
     "language": "python",
     "metadata": {},
     "outputs": [
      {
       "metadata": {},
       "output_type": "pyout",
       "prompt_number": 134,
       "text": [
        "(array([-0.13650701, -0.51949686,  0.73803756,  0.31507115,  0.1312049 ,\n",
        "         0.4883252 , -0.30597766, -0.21990346,  0.18808161,  0.71033581]),\n",
        " array([-1., -0.,  0.,  1.,  0.,  0., -0., -1.,  1.,  0.]))"
       ]
      }
     ],
     "prompt_number": 134
    },
    {
     "cell_type": "markdown",
     "metadata": {},
     "source": [
      "Data processing using Arrays\n",
      "============================\n",
      "\n",
      "So far, we have seen examples of element-wise operations on arrays. Now, let us see how else we can process data using arrays.  We will cover the following topics:\n",
      "1. Expressing conditional logic as Array Operations\n",
      "2. Mathematical and statistical methods\n",
      "3. Methods for Boolean arrays\n",
      "4. Some set logic\n",
      "\n",
      "Expressing conditional logic as Array Operations\n",
      "------------------------------------------------\n",
      "\n",
      "NumPy provides a function called the where() function, which can be used to solve problems like picking up a value from a particular array if it is true, otherwise picking it from some other array. A few examples should make this concept clear:"
     ]
    },
    {
     "cell_type": "code",
     "collapsed": false,
     "input": [
      "xarr=np.arange(1.0, 1.6, 0.1)"
     ],
     "language": "python",
     "metadata": {},
     "outputs": [],
     "prompt_number": 135
    },
    {
     "cell_type": "code",
     "collapsed": false,
     "input": [
      "yarr=np.arange(2.0, 2.6, 0.1)"
     ],
     "language": "python",
     "metadata": {},
     "outputs": [],
     "prompt_number": 136
    },
    {
     "cell_type": "code",
     "collapsed": false,
     "input": [
      "print xarr"
     ],
     "language": "python",
     "metadata": {},
     "outputs": [
      {
       "output_type": "stream",
       "stream": "stdout",
       "text": [
        "[ 1.   1.1  1.2  1.3  1.4  1.5  1.6]\n"
       ]
      }
     ],
     "prompt_number": 143
    },
    {
     "cell_type": "code",
     "collapsed": false,
     "input": [
      "print yarr"
     ],
     "language": "python",
     "metadata": {},
     "outputs": [
      {
       "output_type": "stream",
       "stream": "stdout",
       "text": [
        "[ 2.   2.1  2.2  2.3  2.4  2.5  2.6]\n"
       ]
      }
     ],
     "prompt_number": 138
    },
    {
     "cell_type": "code",
     "collapsed": false,
     "input": [
      "cond=np.array([True, False, False, False, True, True, False])"
     ],
     "language": "python",
     "metadata": {},
     "outputs": [],
     "prompt_number": 144
    },
    {
     "cell_type": "code",
     "collapsed": false,
     "input": [
      "result=np.where(cond, xarr, yarr)"
     ],
     "language": "python",
     "metadata": {},
     "outputs": [],
     "prompt_number": 145
    },
    {
     "cell_type": "code",
     "collapsed": false,
     "input": [
      "print result"
     ],
     "language": "python",
     "metadata": {},
     "outputs": [
      {
       "output_type": "stream",
       "stream": "stdout",
       "text": [
        "[ 1.   2.1  2.2  2.3  1.4  1.5  2.6]\n"
       ]
      }
     ],
     "prompt_number": 146
    },
    {
     "cell_type": "code",
     "collapsed": false,
     "input": [
      "arr=np.random.randn(4, 4)"
     ],
     "language": "python",
     "metadata": {},
     "outputs": [],
     "prompt_number": 148
    },
    {
     "cell_type": "code",
     "collapsed": false,
     "input": [
      "np.where(arr > 0, 2, -2)"
     ],
     "language": "python",
     "metadata": {},
     "outputs": [
      {
       "metadata": {},
       "output_type": "pyout",
       "prompt_number": 149,
       "text": [
        "array([[ 2, -2,  2, -2],\n",
        "       [ 2,  2, -2, -2],\n",
        "       [ 2,  2, -2,  2],\n",
        "       [-2,  2,  2,  2]])"
       ]
      }
     ],
     "prompt_number": 149
    },
    {
     "cell_type": "code",
     "collapsed": false,
     "input": [
      "np.where(arr > 0, 2, -2)"
     ],
     "language": "python",
     "metadata": {},
     "outputs": [
      {
       "metadata": {},
       "output_type": "pyout",
       "prompt_number": 150,
       "text": [
        "array([[ 2, -2,  2, -2],\n",
        "       [ 2,  2, -2, -2],\n",
        "       [ 2,  2, -2,  2],\n",
        "       [-2,  2,  2,  2]])"
       ]
      }
     ],
     "prompt_number": 150
    },
    {
     "cell_type": "markdown",
     "metadata": {},
     "source": [
      "Mathematical and Statistical methods\n",
      "------------------------------------\n",
      "\n",
      "Aggregations can easily be calculated using NumPy as follows:"
     ]
    },
    {
     "cell_type": "code",
     "collapsed": false,
     "input": [
      "arr=np.random.randn(5, 4)"
     ],
     "language": "python",
     "metadata": {},
     "outputs": [],
     "prompt_number": 151
    },
    {
     "cell_type": "code",
     "collapsed": false,
     "input": [
      "print arr"
     ],
     "language": "python",
     "metadata": {},
     "outputs": [
      {
       "output_type": "stream",
       "stream": "stdout",
       "text": [
        "[[ 0.14165096 -1.88222189 -0.26790218 -1.57064438]\n",
        " [-0.10746602 -2.36427082 -0.96123509  0.57419358]\n",
        " [-0.92647642 -0.03313171  1.11066115  0.27512704]\n",
        " [ 1.11291777 -0.30427718 -0.39857121 -1.60089541]\n",
        " [-1.36478179  1.63300647 -1.6471742  -1.73977169]]\n"
       ]
      }
     ],
     "prompt_number": 152
    },
    {
     "cell_type": "code",
     "collapsed": false,
     "input": [
      "arr.mean()"
     ],
     "language": "python",
     "metadata": {},
     "outputs": [
      {
       "metadata": {},
       "output_type": "pyout",
       "prompt_number": 153,
       "text": [
        "-0.51606315174000972"
       ]
      }
     ],
     "prompt_number": 153
    },
    {
     "cell_type": "code",
     "collapsed": false,
     "input": [
      "arr.sum()"
     ],
     "language": "python",
     "metadata": {},
     "outputs": [
      {
       "metadata": {},
       "output_type": "pyout",
       "prompt_number": 154,
       "text": [
        "-10.321263034800195"
       ]
      }
     ],
     "prompt_number": 154
    },
    {
     "cell_type": "code",
     "collapsed": false,
     "input": [
      "arr.mean(axis=1) # passing the optional axis argument results in one less dimension"
     ],
     "language": "python",
     "metadata": {},
     "outputs": [
      {
       "metadata": {},
       "output_type": "pyout",
       "prompt_number": 155,
       "text": [
        "array([-0.89477937, -0.71469459,  0.10654502, -0.29770651, -0.7796803 ])"
       ]
      }
     ],
     "prompt_number": 155
    },
    {
     "cell_type": "markdown",
     "metadata": {},
     "source": [
      "Methods for boolean arrays\n",
      "--------------------------\n",
      "\n",
      "Values can be coerced to true or false. For example:"
     ]
    },
    {
     "cell_type": "code",
     "collapsed": false,
     "input": [
      "arr=np.random.randn(100)"
     ],
     "language": "python",
     "metadata": {},
     "outputs": [],
     "prompt_number": 156
    },
    {
     "cell_type": "code",
     "collapsed": false,
     "input": [
      "print arr"
     ],
     "language": "python",
     "metadata": {},
     "outputs": [
      {
       "output_type": "stream",
       "stream": "stdout",
       "text": [
        "[-1.17355405 -0.39041919 -1.3036875  -0.96514587 -1.4512833   0.74362927\n",
        " -0.18211312 -0.29471706 -0.54205964  1.28029152 -1.47749012  0.47691478\n",
        " -1.42789307 -0.69228104  1.5874483   0.12241145 -0.71349923 -0.31743478\n",
        " -2.07078383 -0.46278933 -1.24313905  0.29520754 -0.5313554   0.63369494\n",
        " -0.15279249 -0.07428101  1.33439788 -0.30009167 -1.03121255 -1.11875275\n",
        " -0.71475616 -0.76608397  0.11962609  2.08903669  2.18640784  0.03433436\n",
        "  0.95079323 -0.55472537 -0.20234422 -0.06142992 -0.63636705 -1.15776273\n",
        "  0.91214074 -0.56728248 -0.21394025  0.99523338 -0.52109329  1.81556221\n",
        "  0.18814174 -1.84379275 -0.51444977  0.83134869 -0.35764868 -0.87525577\n",
        "  1.08366628 -0.56979266 -2.16804422 -0.5411321   0.27668581  0.37449604\n",
        "  1.36781176 -2.33334973  0.49652802  0.42734074 -0.69827738 -0.72449334\n",
        " -0.11572017 -0.98390425 -0.10294913  0.72592707  1.29654893 -1.38756509\n",
        " -0.63953546  0.3622866   1.10546493 -1.56450912  1.13743238  1.24567343\n",
        "  1.86252131 -0.02296564  0.72351746  1.7379317  -0.49973826 -0.27256407\n",
        " -2.34550674 -0.86026436  0.54525039  0.87283687  0.9201003  -0.10274671\n",
        "  0.28490326 -0.51575717  0.31700032 -1.25577202 -0.50463518  0.56400029\n",
        " -0.84745706  1.11284782  0.85912367 -0.28529275]\n"
       ]
      }
     ],
     "prompt_number": 157
    },
    {
     "cell_type": "code",
     "collapsed": false,
     "input": [
      "(arr > 0).sum()"
     ],
     "language": "python",
     "metadata": {},
     "outputs": [
      {
       "metadata": {},
       "output_type": "pyout",
       "prompt_number": 158,
       "text": [
        "41"
       ]
      }
     ],
     "prompt_number": 158
    },
    {
     "cell_type": "code",
     "collapsed": false,
     "input": [
      "bools=np.array([True, False, False, False, True])"
     ],
     "language": "python",
     "metadata": {},
     "outputs": [],
     "prompt_number": 159
    },
    {
     "cell_type": "code",
     "collapsed": false,
     "input": [
      "bools.any() # returns true if any of the values in the array are true"
     ],
     "language": "python",
     "metadata": {},
     "outputs": [
      {
       "metadata": {},
       "output_type": "pyout",
       "prompt_number": 160,
       "text": [
        "True"
       ]
      }
     ],
     "prompt_number": 160
    },
    {
     "cell_type": "code",
     "collapsed": false,
     "input": [
      "bools.all() # returns true of all the values in the array are true"
     ],
     "language": "python",
     "metadata": {},
     "outputs": [
      {
       "metadata": {},
       "output_type": "pyout",
       "prompt_number": 162,
       "text": [
        "False"
       ]
      }
     ],
     "prompt_number": 162
    },
    {
     "cell_type": "markdown",
     "metadata": {},
     "source": [
      "Sorting\n",
      "-------\n",
      "\n",
      "As the name suggests, the arrangement of elements in a particular order is called sorting."
     ]
    },
    {
     "cell_type": "code",
     "collapsed": false,
     "input": [
      "arr=np.random.randn(10)"
     ],
     "language": "python",
     "metadata": {},
     "outputs": [],
     "prompt_number": 163
    },
    {
     "cell_type": "code",
     "collapsed": false,
     "input": [
      "print arr"
     ],
     "language": "python",
     "metadata": {},
     "outputs": [
      {
       "output_type": "stream",
       "stream": "stdout",
       "text": [
        "[-1.44646525 -1.99434819 -1.54247785  2.07946623 -0.8317876  -0.76201545\n",
        " -0.70612268 -0.00345567  1.03903005  0.93237958]\n"
       ]
      }
     ],
     "prompt_number": 164
    },
    {
     "cell_type": "code",
     "collapsed": false,
     "input": [
      "arr.sort()"
     ],
     "language": "python",
     "metadata": {},
     "outputs": [],
     "prompt_number": 165
    },
    {
     "cell_type": "code",
     "collapsed": false,
     "input": [
      "print arr"
     ],
     "language": "python",
     "metadata": {},
     "outputs": [
      {
       "output_type": "stream",
       "stream": "stdout",
       "text": [
        "[-1.99434819 -1.54247785 -1.44646525 -0.8317876  -0.76201545 -0.70612268\n",
        " -0.00345567  0.93237958  1.03903005  2.07946623]\n"
       ]
      }
     ],
     "prompt_number": 166
    },
    {
     "cell_type": "markdown",
     "metadata": {},
     "source": [
      "Multidimensional arrays can be sorted as follows:"
     ]
    },
    {
     "cell_type": "code",
     "collapsed": false,
     "input": [
      "arr=np.random.randn(5, 3)"
     ],
     "language": "python",
     "metadata": {},
     "outputs": [],
     "prompt_number": 168
    },
    {
     "cell_type": "code",
     "collapsed": false,
     "input": [
      "print arr"
     ],
     "language": "python",
     "metadata": {},
     "outputs": [
      {
       "output_type": "stream",
       "stream": "stdout",
       "text": [
        "[[ 0.48420912  0.21519314 -0.04619307]\n",
        " [-0.96201808  0.0265986  -0.87836323]\n",
        " [-0.10835113 -1.22192682 -0.81391136]\n",
        " [ 0.07784223  0.70379625  0.57579822]\n",
        " [-1.13530142 -0.50455978 -1.15380392]]\n"
       ]
      }
     ],
     "prompt_number": 169
    },
    {
     "cell_type": "code",
     "collapsed": false,
     "input": [
      "arr.sort(1)"
     ],
     "language": "python",
     "metadata": {},
     "outputs": [],
     "prompt_number": 170
    },
    {
     "cell_type": "code",
     "collapsed": false,
     "input": [
      "print arr"
     ],
     "language": "python",
     "metadata": {},
     "outputs": [
      {
       "output_type": "stream",
       "stream": "stdout",
       "text": [
        "[[-0.04619307  0.21519314  0.48420912]\n",
        " [-0.96201808 -0.87836323  0.0265986 ]\n",
        " [-1.22192682 -0.81391136 -0.10835113]\n",
        " [ 0.07784223  0.57579822  0.70379625]\n",
        " [-1.15380392 -1.13530142 -0.50455978]]\n"
       ]
      }
     ],
     "prompt_number": 171
    },
    {
     "cell_type": "markdown",
     "metadata": {},
     "source": [
      "In order to find quantiles, you can simply sort it and select the rank as follows:"
     ]
    },
    {
     "cell_type": "code",
     "collapsed": false,
     "input": [
      "arr=np.random.randn(1000)\n",
      "print arr"
     ],
     "language": "python",
     "metadata": {},
     "outputs": [
      {
       "output_type": "stream",
       "stream": "stdout",
       "text": [
        "[ -1.27350046e+00   8.40575144e-01  -4.56507177e-01  -6.16967758e-02\n",
        "  -2.36460468e-01  -2.54811936e+00   7.79150790e-01   4.03127359e-02\n",
        "  -1.44609098e+00  -3.72574654e-01   1.64386100e+00  -6.17694512e-01\n",
        "   5.11799546e-01  -1.97364036e-01  -1.86875239e+00   1.34401336e+00\n",
        "   1.58353274e-01  -3.27129458e-01  -1.37056775e+00  -4.80911037e-01\n",
        "   1.74210793e+00   6.05390518e-01  -2.82039608e-01   4.34374692e-01\n",
        "   9.60900233e-02  -8.81121609e-01  -1.24997249e+00   2.17872367e+00\n",
        "  -3.71743844e-01  -1.97185770e-01   9.86632124e-01   1.39223786e+00\n",
        "  -2.13937059e-01  -5.13267489e-01   1.20787726e+00   1.05595031e+00\n",
        "   6.54752591e-01   3.86519375e-01   6.14728442e-02  -8.45816496e-02\n",
        "   1.05450398e+00   2.03862490e+00  -1.14602362e+00   1.37425777e+00\n",
        "   1.70457237e+00   6.45343357e-01  -9.31917029e-01  -6.13321715e-01\n",
        "  -6.36571778e-01   4.71741517e-01  -9.75593798e-01   8.41496699e-01\n",
        "  -2.15824729e+00   3.87655113e-01  -4.93910384e-02  -3.76797002e-01\n",
        "   1.18649719e+00  -3.33346122e-01   1.49770553e+00   2.15093074e+00\n",
        "   5.69072233e-01   2.34031543e-02   5.99530848e-01  -1.86622923e-01\n",
        "  -5.92000968e-01   9.31705177e-02   3.39688080e-01   1.08017560e+00\n",
        "   5.34059113e-01   1.13880254e+00   4.23827991e-01   1.07045702e+00\n",
        "  -7.24191985e-02   1.85312611e+00  -2.45743445e-01   1.99529354e+00\n",
        "   5.62904538e-02  -1.11185975e+00   2.32875062e+00   1.82426835e+00\n",
        "   8.39687353e-01  -9.92413800e-01  -3.95416465e-01  -1.08771019e+00\n",
        "  -7.01407362e-02   5.62225798e-01   9.59792333e-01   7.14101892e-01\n",
        "  -5.44431784e-01   5.28898346e-01   9.03569571e-01  -7.09168019e-01\n",
        "  -1.35475781e+00  -4.41198948e-02   8.51938020e-01   4.13016929e-01\n",
        "  -2.72653718e-02   4.29915397e-01   5.87162554e-01   1.78485112e+00\n",
        "   1.40306049e-02  -3.96717792e-01   6.15599868e-01   3.81173087e-01\n",
        "   3.17394447e+00   8.57262814e-01   5.72494934e-01  -1.29727562e+00\n",
        "  -1.83665186e+00   6.39475606e-01  -9.27716461e-02  -1.11721048e+00\n",
        "   3.52116096e-01  -7.58129978e-01  -1.42125911e-01  -2.28953121e+00\n",
        "   1.35764007e+00  -3.96676747e-01  -4.30728836e-02   3.95290202e-01\n",
        "   1.05317861e+00   9.11784475e-02   2.59005981e+00  -8.52443535e-03\n",
        "   1.16251970e+00  -6.72787905e-01   1.56263674e+00   6.35545808e-01\n",
        "  -6.55158617e-01  -5.88824692e-01  -7.67383564e-01  -3.59384574e-01\n",
        "  -1.53145339e+00   1.12486675e+00   2.29187267e+00  -8.64045858e-01\n",
        "  -4.76008360e-01   1.93214364e+00   1.00471798e+00  -1.51470301e-01\n",
        "   1.82770853e-01   1.17359188e+00   1.71990160e-01   1.15596720e-01\n",
        "  -8.48970170e-01   1.16393727e-01   1.42934030e+00   1.13672997e+00\n",
        "  -9.42886224e-01   4.31244512e-01   6.92513872e-01  -1.21259821e+00\n",
        "  -3.79342652e-01   3.52519695e-01  -1.39062000e+00  -7.55978946e-02\n",
        "   1.26720776e+00  -1.55611752e-01  -1.45717649e+00   6.09773181e-01\n",
        "  -8.94778134e-01  -7.23541182e-01   1.17819758e-01   2.41040941e+00\n",
        "   9.99177648e-01  -1.02175274e+00  -2.16798710e-01   2.57650775e-01\n",
        "   7.98766623e-01  -1.88405528e+00  -1.40845268e-01   5.04863519e-01\n",
        "   3.83403180e-01   1.04795411e-01  -5.78760702e-01   5.81188156e-01\n",
        "  -1.50090683e+00  -1.52547239e+00  -6.65595757e-02  -4.88356294e-01\n",
        "  -1.93042657e-01   1.41099270e+00  -3.51095517e-01   9.36931394e-01\n",
        "   2.95879638e-01   1.15120384e+00   7.85184895e-01  -9.47655612e-01\n",
        "  -7.67563437e-01   1.42250990e+00  -6.02388004e-01   3.25280391e-01\n",
        "   6.19836569e-02   8.23600934e-02   1.03667163e+00   1.71438160e+00\n",
        "   9.20025019e-01  -7.63150088e-02   2.42138735e-01  -8.71896416e-02\n",
        "  -6.80207276e-02  -4.29490406e-01  -3.24044511e-01  -6.01665409e-01\n",
        "   1.64715807e-01  -5.84793558e-01   5.92875425e-01  -7.35475321e-01\n",
        "  -6.79416572e-01  -1.75602683e+00   7.61456365e-01  -3.64704596e-01\n",
        "  -1.14727053e+00   1.41146319e+00   6.34610994e-01  -7.61483215e-01\n",
        "  -2.10461579e+00   1.37581108e+00   5.35785538e-01   1.22927212e+00\n",
        "   1.54993284e+00  -9.82351228e-01  -1.85863819e+00  -6.74526620e-01\n",
        "  -1.26643643e+00  -3.11649258e-01  -5.65546931e-01   1.74964224e+00\n",
        "  -6.45484118e-01  -1.47923250e+00  -3.86776390e-01  -2.25152399e+00\n",
        "  -1.20629929e+00  -1.76274214e+00  -9.23520638e-01  -1.52835556e+00\n",
        "   2.41105219e+00  -1.28784177e+00  -7.46410236e-01   1.16044468e-01\n",
        "   1.94567837e-01   5.29677180e-01   3.84467796e-01  -1.38659999e+00\n",
        "  -1.82612756e+00  -1.29502133e-01  -4.19256470e-01  -6.74172802e-02\n",
        "  -5.88456917e-01  -4.33422837e-02   1.90011712e+00  -5.61330513e-01\n",
        "  -1.00446872e-01  -3.72678077e-01  -3.89031519e-01   6.45025608e-02\n",
        "   2.91228027e-01   1.10088622e+00   7.46030120e-01  -1.24850535e+00\n",
        "  -8.66291604e-01  -1.42279847e+00   1.51502246e+00   1.17739862e+00\n",
        "   7.49116262e-01   4.12561027e-01   5.89434510e-01   5.17273778e-01\n",
        "  -2.49029931e-01   1.15834492e+00   4.05894814e-01  -7.94103189e-01\n",
        "   2.30811605e+00  -1.25567139e+00   4.74529067e-02   3.72920831e-01\n",
        "  -6.20117117e-01   1.14357655e+00  -4.57829770e-01  -1.37793988e+00\n",
        "   1.03106751e+00   1.26025965e+00  -1.29772380e+00   8.36084559e-02\n",
        "  -1.38851745e+00  -8.01148456e-01  -1.61560020e+00   9.34608032e-01\n",
        "  -1.29355115e+00   9.41545861e-01   1.11708532e+00  -1.17788727e+00\n",
        "   2.23250663e-01   7.06038208e-01  -5.77114997e-01   2.47615157e-01\n",
        "  -6.53065261e-01  -5.61290554e-01  -3.12016940e-01  -3.54370200e-01\n",
        "   1.32774067e+00  -6.69110069e-01   4.07760100e-02  -6.30952662e-01\n",
        "   7.13908925e-01  -8.94671595e-01   5.26020417e-01   7.22024039e-01\n",
        "  -1.72038323e+00  -1.72139875e-01  -1.61869293e+00   8.47557128e-01\n",
        "   1.89327591e-01  -7.63635950e-01  -1.43453594e+00   1.79441571e+00\n",
        "  -1.55184133e-01   1.26305483e+00   7.68034859e-01  -1.72672421e+00\n",
        "  -1.55966599e+00  -7.52180359e-01  -4.01794591e-01   3.56543950e-01\n",
        "  -7.07616428e-01  -5.63728361e-01  -7.06582879e-01   7.98582434e-01\n",
        "   1.34807269e+00   1.09601579e+00   1.28689438e+00  -1.80341784e+00\n",
        "  -6.76588304e-01   2.36081069e-01  -2.21923426e+00  -6.07465598e-01\n",
        "  -2.06285623e-01   1.22643697e+00   7.82416146e-01  -7.12813565e-02\n",
        "   1.52386747e+00   1.09999279e+00   8.09843349e-01  -7.97167121e-01\n",
        "  -8.88856716e-02   1.28072060e+00  -1.20024804e+00   3.70145561e-01\n",
        "  -1.59789256e-01  -1.16964159e+00   2.04208925e-01  -8.40173482e-02\n",
        "   6.77285423e-01   5.92159239e-01   5.28014118e-01   2.72657301e-02\n",
        "  -1.95688104e-01   8.21777901e-01   2.35357516e+00  -1.87102008e+00\n",
        "  -1.21633526e-01   2.77177681e-01   7.00497823e-01   6.15498390e-02\n",
        "  -2.08265789e-01   4.13961192e-02   5.54341735e-01   1.40551783e+00\n",
        "  -1.72993187e+00  -7.58585324e-01  -1.01819660e+00  -2.00054117e+00\n",
        "  -1.52936351e+00   1.69265415e+00   7.51541212e-01   1.99624518e+00\n",
        "   3.44932698e-01   1.82156530e-02   1.59703740e-01  -1.22577707e+00\n",
        "  -5.06582764e-01   9.79102124e-01   2.11913704e-01  -1.38823826e+00\n",
        "   5.40177629e-01  -7.61730975e-01   5.25493253e-01  -1.16393853e+00\n",
        "   1.59810899e+00   4.88994797e-01  -2.58596811e+00  -2.50273511e-01\n",
        "  -1.25531312e+00  -3.16989275e-01  -6.51891937e-01  -2.11896359e+00\n",
        "  -1.08351234e+00  -1.61019018e+00   1.75700857e-01  -7.72876710e-02\n",
        "   2.12884956e+00  -6.88862285e-01   2.59763479e-01   5.91890754e-02\n",
        "   3.85184808e-01  -7.46741355e-02   1.45319668e+00  -2.11722686e+00\n",
        "  -1.32898558e+00   6.34310682e-01  -9.89438648e-01   1.73165583e-01\n",
        "  -9.12135829e-01   1.58418438e+00  -1.25379045e+00  -1.08246919e+00\n",
        "  -5.52031620e-01   2.45063634e-01  -1.29150248e+00   4.03830565e-01\n",
        "  -1.00628191e+00   4.64465269e-01   3.11545804e-01   1.53660228e+00\n",
        "  -6.13114890e-02  -1.09535812e+00   1.77350987e+00  -5.35020906e-01\n",
        "  -4.88011667e-01   9.91883892e-01  -1.34165480e+00  -2.73703148e-01\n",
        "   6.44619935e-01  -2.54897128e+00  -1.99630114e+00  -3.14551300e-01\n",
        "   1.97887689e-01  -3.92417036e-01  -6.19483210e-01   6.41750173e-01\n",
        "   1.58813710e+00   8.59635260e-01   9.77461139e-01  -8.49501547e-01\n",
        "  -9.61524832e-01   8.45271997e-01  -1.26660901e+00   3.77458629e-01\n",
        "   1.23203299e+00  -2.73630648e-01   1.97861833e+00   6.27786815e-01\n",
        "   8.11916242e-03  -2.69855071e-01   1.01357996e+00  -2.21149804e+00\n",
        "   8.77287512e-01  -1.20785370e+00  -2.08929651e+00  -1.04020351e+00\n",
        "  -6.04557491e-01  -1.16534883e-02  -2.35118702e+00  -1.76107417e+00\n",
        "   7.61343254e-01   4.33259335e-01   5.69766264e-01  -8.88699829e-01\n",
        "  -8.13481492e-01   1.18244478e+00  -3.05441180e-01  -7.23581611e-01\n",
        "   9.58918842e-01   4.64146736e-01   1.07939610e+00  -3.40493547e-01\n",
        "  -7.80216396e-02  -1.70434379e+00   1.34655464e+00  -6.77707701e-01\n",
        "   2.09232443e-01  -9.92429093e-01  -1.25900483e+00  -1.50024589e-01\n",
        "   3.98114835e-01   2.96384999e-01   1.27878997e+00  -1.02387613e+00\n",
        "   6.10484549e-01   6.05210104e-02   8.41278803e-01  -1.17333692e+00\n",
        "  -9.22065033e-01   1.10413140e+00  -3.51057795e-01  -1.89510169e+00\n",
        "   1.55141509e+00  -1.13529227e+00   7.52098490e-01  -2.07332437e+00\n",
        "   9.30095261e-01   1.82154394e-01   1.16104394e+00  -1.06833242e+00\n",
        "  -4.91773827e-01   7.49444735e-01   4.82012442e-02  -1.36916524e+00\n",
        "  -1.23889498e+00  -2.15553580e+00   8.16562450e-02   4.34932206e-01\n",
        "   1.09474066e+00  -1.88090061e+00  -6.98726296e-01   2.18232943e-01\n",
        "  -2.19027804e-01   7.83095261e-01  -3.04167179e-01   6.00452869e-01\n",
        "  -4.58232693e-01  -1.03124240e+00  -1.09380764e+00  -6.64451826e-01\n",
        "   3.13080886e-01   7.76515676e-01  -8.77399824e-01   1.69825337e+00\n",
        "   1.22431426e+00   8.94348619e-01   7.82360908e-01  -6.94193895e-01\n",
        "  -9.58420062e-01  -3.01166336e-01  -9.04798199e-01   2.03439254e-01\n",
        "   2.69401513e-01   1.45831659e+00   2.73937434e-01   9.80946403e-01\n",
        "  -1.13766526e+00   9.47943348e-01  -7.63414378e-02   1.04407130e+00\n",
        "  -1.38755118e+00  -2.80930609e-01   9.09758342e-01  -5.39181013e-01\n",
        "  -1.98350176e-01   5.16921038e-02   4.42962207e-01  -8.33808509e-02\n",
        "  -3.66735184e-01   7.11841520e-01   3.12984668e-01  -2.03774635e+00\n",
        "   1.31736306e+00   1.19641436e+00  -1.56948392e+00   4.69535293e-01\n",
        "   6.86098592e-01   1.33403503e+00  -5.45788842e-01   5.65255374e-01\n",
        "  -1.05695250e+00   1.83925675e+00  -4.45669674e-01  -8.94320715e-01\n",
        "   4.18082793e-01  -1.72566941e+00  -1.77751319e-02   1.04385736e+00\n",
        "   1.69110027e+00   1.67559221e+00  -2.30422008e+00   1.45403604e-01\n",
        "   1.27288155e-01  -8.55901298e-01  -1.45058096e+00  -1.83271752e+00\n",
        "   1.40549525e+00   1.27949195e+00  -5.41137921e-01  -1.94646447e+00\n",
        "   5.26509839e-01   1.74485589e-01  -1.10864551e+00  -8.28652905e-01\n",
        "  -1.57533936e+00   1.78835676e+00   1.27256470e+00   1.79367292e-01\n",
        "   7.48943903e-01  -1.78460917e-01   1.24131232e+00  -4.02647544e-01\n",
        "  -9.32531076e-01  -3.08130331e-01  -2.30753693e-01   9.51962525e-01\n",
        "  -1.27100677e+00   1.57804578e+00  -1.73496547e+00   2.18504071e+00\n",
        "  -5.82760895e-01   2.22891737e+00   3.54039464e-01   1.97544645e+00\n",
        "  -9.89410320e-01   5.28932887e-01   1.18869047e+00   1.18876602e+00\n",
        "   2.05858721e+00   3.28272221e-01  -2.10801692e-01  -2.26349382e-01\n",
        "  -1.06420475e-01  -1.19786157e+00  -9.82139232e-01  -6.20943499e-01\n",
        "   2.44489943e-01   4.01631168e-01   7.74391282e-01  -2.89665174e-01\n",
        "   2.01799704e+00   1.18804915e+00   1.36950329e+00  -7.15665308e-01\n",
        "  -4.66561529e-01  -1.34554056e+00  -1.68128535e+00   4.78031924e-01\n",
        "  -1.34709475e+00  -9.69757139e-01  -1.85852026e+00  -6.37746642e-02\n",
        "   1.68433948e+00   9.94301139e-01  -8.14350190e-01  -7.72452800e-01\n",
        "   5.15547802e-01  -1.13082636e+00   3.12778272e-01   5.00971056e-02\n",
        "  -3.61921835e-01   1.07467046e+00  -8.06740483e-01   6.45880526e-01\n",
        "   1.29718362e+00   9.88298485e-01  -1.32836143e+00  -4.00206481e-01\n",
        "   2.40861489e-01   6.42536263e-02   2.11553808e-01   6.05990039e-01\n",
        "   8.77568613e-01  -5.55761632e-01   1.97895803e-01   1.77715976e+00\n",
        "  -1.46426042e+00   5.22947312e-01  -8.81639012e-01   5.71279564e-01\n",
        "  -1.26059594e+00  -7.43800409e-01  -4.60084723e-01   6.14761419e-01\n",
        "  -6.32084431e-02   8.75428438e-01  -2.01678603e+00   4.36684690e-01\n",
        "   1.49761520e-01   1.33659027e-01  -9.07806540e-02  -9.86395761e-01\n",
        "  -4.77644144e-01  -7.75520276e-01  -5.09680463e-01  -6.79427362e-01\n",
        "   1.48540649e+00  -2.03737633e+00   5.17854551e-01   1.53327979e+00\n",
        "   4.93784087e-01   4.20587137e-04   1.04286152e+00  -5.84279968e-01\n",
        "   5.41423091e-01  -4.38729410e-01  -9.28031690e-01   4.76670370e-01\n",
        "  -6.52671500e-02  -5.79183646e-01  -9.84893801e-01   1.40507583e+00\n",
        "   3.39959063e-01  -2.27628684e-01  -2.34256817e-01  -2.18503824e-01\n",
        "  -2.61254839e-01  -8.54980862e-01  -2.50484291e+00  -5.99780991e-02\n",
        "  -1.62664260e+00   9.68879210e-01   1.04707959e+00   5.54528583e-01\n",
        "   6.83568220e-01   4.27270242e-01   3.16126703e-02   9.89689859e-02\n",
        "  -1.80647214e+00  -8.58050136e-01  -4.59286144e-01   1.28948976e+00\n",
        "   1.27398052e+00   2.31521483e-01   2.63875333e-01  -5.79509149e-01\n",
        "  -1.83948367e+00  -1.65450816e+00  -8.18036170e-01   1.44925107e+00\n",
        "   6.34971780e-01  -5.63398532e-01  -6.58495893e-01   1.10309893e-01\n",
        "  -9.43833501e-02   1.32296689e+00   1.15681871e+00   1.11496221e-01\n",
        "   2.52063382e-01   9.77402282e-01   5.92336827e-01  -1.22140434e+00\n",
        "   1.54060557e+00  -1.51505721e+00   3.35017714e-01   1.11099843e+00\n",
        "  -1.10417699e+00  -1.40012206e+00  -1.02160319e+00   1.32330633e+00\n",
        "   5.07209108e-02   1.11040487e+00   1.16244035e-01  -5.29671438e-03\n",
        "  -1.39475622e+00  -1.70288210e+00  -1.16961659e-01   5.15933531e-01\n",
        "  -1.29714444e+00  -6.86664632e-01   4.43561251e-01  -4.63133933e-01\n",
        "  -1.09970423e+00  -2.20647865e-01  -1.35762729e-02   7.11213719e-01\n",
        "  -1.65562370e+00  -1.31636440e+00   1.08795323e+00  -6.03903421e-01\n",
        "   2.31659533e+00  -5.47047262e-01  -5.58389405e-01   7.44127835e-02\n",
        "   5.93581609e-01  -3.47472558e-01  -1.21516341e+00  -1.45287130e+00\n",
        "  -5.56315661e-01  -9.34181602e-01   1.64287630e-01   1.04931653e+00\n",
        "   1.18015698e+00   4.66718528e-01   7.81352312e-01  -2.76792776e-01\n",
        "   5.65720097e-01  -3.38635196e-01  -1.12033601e+00  -9.97529171e-01\n",
        "   9.45674211e-01   8.08411328e-02   3.79193845e-01  -9.48422754e-01\n",
        "  -1.84412156e-01   2.16845451e+00   8.19912075e-01  -4.31690553e-01\n",
        "  -6.90356176e-01   1.72381766e-01   8.75320633e-01  -4.35460927e-01\n",
        "   1.26847069e+00  -8.21306440e-01   1.15926892e+00   7.27872637e-01\n",
        "   1.56593123e+00  -1.90644529e-01  -1.80468107e+00   3.03157564e-01\n",
        "   6.42118234e-01   1.53395417e+00  -2.08987792e+00  -5.36227223e-02\n",
        "   3.34315000e-01  -9.02661141e-01   7.51333858e-01  -4.66621179e-01\n",
        "   3.90113849e-01   4.57963503e-01   2.80775727e-01   3.58345156e-01\n",
        "  -4.90968063e-01  -3.48201686e-01  -2.55317953e-01  -2.05195444e-01\n",
        "   2.59918306e-01  -5.38862402e-01  -5.55078606e-01  -7.41321528e-01\n",
        "   1.06505222e+00   1.83338160e-01  -2.29296852e-01   9.97447042e-01\n",
        "  -1.57213802e+00   5.03553380e-01   8.24577070e-01  -2.89629140e-01\n",
        "   1.00273060e-01  -5.16773633e-01  -2.93598081e-01  -9.17418281e-01\n",
        "  -1.54183649e+00  -4.92761428e-01  -2.43248520e-01  -4.37788411e-01\n",
        "  -2.22254266e+00   1.25331152e+00   4.55811581e-01   4.76145723e-01\n",
        "  -3.96255368e-01   1.21492569e+00   1.12689202e+00   2.12968796e-01\n",
        "   4.31181823e-01   7.18678819e-02   2.24804351e-01  -1.09162902e+00\n",
        "  -8.90387384e-01   4.90533262e-01   3.95497376e-01  -4.31168898e-01\n",
        "   7.99889749e-02  -3.49885841e-01  -8.35822431e-01  -4.46693611e-01\n",
        "  -5.85490883e-01  -1.83885349e+00  -2.71675542e+00   5.66615905e-01\n",
        "   5.66173419e-01  -1.93919925e+00   7.43385381e-01   1.43595747e+00\n",
        "   4.64593631e-02  -2.34379613e-01   2.02260025e-02  -1.21781082e+00\n",
        "   2.27300594e+00  -1.02910348e-02   9.26624812e-01  -1.41865597e+00\n",
        "  -8.18415230e-01  -1.84520200e+00   1.57179111e+00   6.27030437e-01\n",
        "   1.24707406e+00  -2.55514463e+00   2.01341737e+00  -6.60504453e-01\n",
        "   9.66718286e-01  -8.62985594e-01   2.22644779e+00  -7.63360692e-02\n",
        "  -1.05549910e+00   1.06842988e+00  -1.93900551e-01  -6.78173702e-01\n",
        "   1.37383321e+00  -2.61475030e+00   6.90404733e-01  -4.59486915e-01\n",
        "   2.20934369e+00  -3.10230257e-01  -3.69832971e-01   5.22151764e-01\n",
        "   8.91311620e-02  -9.01724504e-01   6.11223569e-01  -2.64753759e-01\n",
        "  -3.34619415e-01   5.89635332e-01   1.17442193e-02   1.99669191e-01\n",
        "  -1.08879361e+00   9.70095534e-01  -4.70760756e-01   8.10007775e-01\n",
        "   1.23971254e-01  -9.49306901e-01  -9.28597611e-01   8.09795254e-01\n",
        "  -6.39251375e-01  -1.12232064e+00  -3.79789954e-01   1.03315476e+00\n",
        "   3.17802520e-02  -2.47623195e-01   1.56145829e-01  -1.02072346e+00\n",
        "   1.18710230e+00   1.54176781e+00   6.08381585e-01  -6.28524053e-01\n",
        "   1.09686150e-01  -8.62583960e-02   1.28773730e-01  -1.25133821e+00\n",
        "  -6.19449653e-01   2.35406823e-01   2.90833933e-01  -5.46591109e-01\n",
        "   7.57641985e-02  -7.59935758e-01   1.54907951e-01   1.83017309e+00\n",
        "  -1.20440337e+00  -1.28770526e+00   6.94577770e-01  -1.35815148e+00\n",
        "  -1.11920860e+00   1.10225733e+00  -2.57956854e+00  -1.32634066e-01\n",
        "   6.47757723e-01  -8.72052273e-01  -2.36262834e-01   2.37417609e-01\n",
        "  -2.58802527e-01   2.67334788e-01   8.64427147e-01   1.26360904e-01\n",
        "   9.13205132e-01   6.91759519e-01   1.59822571e-01   1.18182012e+00\n",
        "  -6.58855567e-01  -7.22855349e-01   9.35900206e-01  -2.25504149e-01\n",
        "   1.50144367e+00  -4.40040651e-01   6.95957529e-01  -1.43665932e-01\n",
        "  -5.62195108e-01  -4.18370895e-02  -1.03228912e+00   1.33774324e+00\n",
        "  -2.41305643e-02   1.28087025e+00  -8.48262209e-01  -3.76011242e-01\n",
        "  -1.50189449e-01  -5.96270938e-02   1.38601671e-02   1.04401733e+00\n",
        "  -3.39766042e-02  -6.11051696e-01  -1.10121959e+00  -3.59618424e-01\n",
        "   1.87253917e-01  -4.28842507e-01   6.17659059e-01  -3.56158639e-01\n",
        "  -7.88726034e-01   2.34480350e+00  -7.51607331e-01  -8.46268425e-02\n",
        "  -5.84122912e-01   7.66577924e-01  -1.98206713e-01   4.63816446e-01\n",
        "  -8.13109571e-02  -1.81881240e+00  -2.75436126e-02  -1.35634425e+00]\n"
       ]
      }
     ],
     "prompt_number": 173
    },
    {
     "cell_type": "code",
     "collapsed": false,
     "input": [
      "arr.sort()"
     ],
     "language": "python",
     "metadata": {},
     "outputs": [],
     "prompt_number": 174
    },
    {
     "cell_type": "code",
     "collapsed": false,
     "input": [
      "arr[int (0.05 * len(arr))] # This is the 5% quantile"
     ],
     "language": "python",
     "metadata": {},
     "outputs": [
      {
       "metadata": {},
       "output_type": "pyout",
       "prompt_number": 176,
       "text": [
        "-1.7349654700829222"
       ]
      }
     ],
     "prompt_number": 176
    },
    {
     "cell_type": "markdown",
     "metadata": {},
     "source": [
      "Unique and set logic\n",
      "--------------------\n",
      "\n",
      "One of the most commonly used functions as far as set logic is concerned is the unique function, which returns the sorted unique values int the array."
     ]
    },
    {
     "cell_type": "code",
     "collapsed": false,
     "input": [
      "names = np.array(['Bob', 'Joe', 'Will', 'Bob', 'Will', 'Joe', 'Joe'])"
     ],
     "language": "python",
     "metadata": {},
     "outputs": [],
     "prompt_number": 177
    },
    {
     "cell_type": "code",
     "collapsed": false,
     "input": [
      "np.unique(names)"
     ],
     "language": "python",
     "metadata": {},
     "outputs": [
      {
       "metadata": {},
       "output_type": "pyout",
       "prompt_number": 178,
       "text": [
        "array(['Bob', 'Joe', 'Will'], \n",
        "      dtype='|S4')"
       ]
      }
     ],
     "prompt_number": 178
    },
    {
     "cell_type": "code",
     "collapsed": false,
     "input": [
      "a=np.array([1, 2, 3, 4, 6])"
     ],
     "language": "python",
     "metadata": {},
     "outputs": [],
     "prompt_number": 179
    },
    {
     "cell_type": "code",
     "collapsed": false,
     "input": [
      "b=np.array([2, 3, 4, 5, 6, 7])"
     ],
     "language": "python",
     "metadata": {},
     "outputs": [],
     "prompt_number": 180
    },
    {
     "cell_type": "code",
     "collapsed": false,
     "input": [
      "print np.intersect1d(a, b)"
     ],
     "language": "python",
     "metadata": {},
     "outputs": [
      {
       "output_type": "stream",
       "stream": "stdout",
       "text": [
        "[2 3 4 6]\n"
       ]
      }
     ],
     "prompt_number": 182
    },
    {
     "cell_type": "code",
     "collapsed": false,
     "input": [
      "print np.union1d(a, b)"
     ],
     "language": "python",
     "metadata": {},
     "outputs": [
      {
       "output_type": "stream",
       "stream": "stdout",
       "text": [
        "[1 2 3 4 5 6 7]\n"
       ]
      }
     ],
     "prompt_number": 183
    },
    {
     "cell_type": "code",
     "collapsed": false,
     "input": [
      "print np.setdiff1d(a, b)"
     ],
     "language": "python",
     "metadata": {},
     "outputs": [
      {
       "output_type": "stream",
       "stream": "stdout",
       "text": [
        "[1]\n"
       ]
      }
     ],
     "prompt_number": 184
    },
    {
     "cell_type": "markdown",
     "metadata": {},
     "source": [
      "Random number generation\n",
      "------------------------\n",
      "\n",
      "In conclusion, I will cover random number generation. The numpy.random module supplements the built in random with functions for generating arrays of sample values from many kinds of probability distributions."
     ]
    },
    {
     "cell_type": "code",
     "collapsed": false,
     "input": [
      "a=np.random.normal(size=(4, 4))"
     ],
     "language": "python",
     "metadata": {},
     "outputs": [],
     "prompt_number": 188
    },
    {
     "cell_type": "code",
     "collapsed": false,
     "input": [
      "print a"
     ],
     "language": "python",
     "metadata": {},
     "outputs": [
      {
       "output_type": "stream",
       "stream": "stdout",
       "text": [
        "[[-0.18407322  1.49859717 -0.3812657  -1.15242869]\n",
        " [-1.00214431  0.9960891  -2.51570021 -0.48877967]\n",
        " [-0.98366262  1.08139789  1.87313245 -0.09979344]\n",
        " [-0.65538515  0.93817328 -0.11975256  1.36204806]]\n"
       ]
      }
     ],
     "prompt_number": 189
    },
    {
     "cell_type": "code",
     "collapsed": false,
     "input": [
      "from random import normalvariate"
     ],
     "language": "python",
     "metadata": {},
     "outputs": [],
     "prompt_number": 190
    },
    {
     "cell_type": "code",
     "collapsed": false,
     "input": [
      "n=1000000"
     ],
     "language": "python",
     "metadata": {},
     "outputs": [],
     "prompt_number": 191
    },
    {
     "cell_type": "code",
     "collapsed": false,
     "input": [
      "%timeit a= [normalvariate(0, 1) for _ in xrange(n)]"
     ],
     "language": "python",
     "metadata": {},
     "outputs": [
      {
       "output_type": "stream",
       "stream": "stdout",
       "text": [
        "1 loops, best of 3: 1.33 s per loop\n"
       ]
      }
     ],
     "prompt_number": 193
    },
    {
     "cell_type": "code",
     "collapsed": false,
     "input": [
      "%timeit np.random.normal(size=n)"
     ],
     "language": "python",
     "metadata": {},
     "outputs": [
      {
       "output_type": "stream",
       "stream": "stdout",
       "text": [
        "10 loops, best of 3: 44.8 ms per loop\n"
       ]
      }
     ],
     "prompt_number": 194
    },
    {
     "cell_type": "code",
     "collapsed": false,
     "input": [],
     "language": "python",
     "metadata": {},
     "outputs": []
    }
   ],
   "metadata": {}
  }
 ]
}