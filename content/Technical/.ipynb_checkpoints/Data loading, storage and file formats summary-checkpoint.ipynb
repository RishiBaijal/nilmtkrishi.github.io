{
 "metadata": {
  "name": "",
  "signature": "sha256:66d48e5d84e2c5e7fc1c00eebb292f51bbe6e80daf340a9b5ce8f800d9854831"
 },
 "nbformat": 3,
 "nbformat_minor": 0,
 "worksheets": []
}